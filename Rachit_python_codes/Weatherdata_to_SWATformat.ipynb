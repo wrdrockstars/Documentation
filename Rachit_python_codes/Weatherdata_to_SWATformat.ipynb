{
 "cells": [
  {
   "cell_type": "code",
   "execution_count": 134,
   "id": "d099fb10",
   "metadata": {},
   "outputs": [],
   "source": [
    "# import csv"
   ]
  },
  {
   "cell_type": "markdown",
   "metadata": {},
   "source": [
    "### Transpose csv file"
   ]
  },
  {
   "cell_type": "code",
   "execution_count": 2,
   "id": "59637a82",
   "metadata": {},
   "outputs": [],
   "source": [
    "# def transpose_csv(input_file, output_file):\n",
    "#     # Read the CSV file and transpose the data using the zip function\n",
    "#     with open(input_file, 'r') as csvfile:\n",
    "#         reader = csv.reader(csvfile)\n",
    "#         transposed_data = list(zip(*reader))\n",
    "\n",
    "#     # Write the transposed data to a new CSV file\n",
    "#     with open(output_file, 'w', newline='') as csvfile:\n",
    "#         writer = csv.writer(csvfile)\n",
    "#         for row in transposed_data:\n",
    "#             writer.writerow(row)"
   ]
  },
  {
   "cell_type": "code",
   "execution_count": 3,
   "id": "5d9895ad",
   "metadata": {},
   "outputs": [],
   "source": [
    "# # Example usage:\n",
    "# input_file = \"weather_data2007.csv\"\n",
    "# output_file = \"weather_data2007_new.csv\"\n",
    "# transpose_csv(input_file, output_file)"
   ]
  },
  {
   "cell_type": "code",
   "execution_count": 2,
   "id": "1b26a346",
   "metadata": {},
   "outputs": [],
   "source": [
    "import pandas as pd"
   ]
  },
  {
   "cell_type": "code",
   "execution_count": 4,
   "id": "abbe596b",
   "metadata": {},
   "outputs": [],
   "source": [
    "df2007 = pd.read_csv('weather_data2007.csv')\n",
    "\n",
    "rhcol2007 = df2007.filter(like='hurs')\n",
    "prcol2007 = df2007.filter(like='pr')\n",
    "rsdscol2007 = df2007.filter(like='rsds')\n",
    "sfcWindcol2007 = df2007.filter(like='sfcWind')\n",
    "tasmaxcol2007  = df2007.filter(like='tasmax')\n",
    "tasmincol2007 = df2007.filter(like='tasmin')\n",
    "\n",
    "rh2007 = df2007.loc[0, rhcol2007.columns]\n",
    "pr2007 = df2007.loc[0, prcol2007.columns]\n",
    "rsds2007 = df2007.loc[0, rsdscol2007.columns]\n",
    "sfcWind2007 = df2007.loc[0, sfcWindcol2007.columns]\n",
    "tasmax2007 = df2007.loc[0, tasmaxcol2007.columns]\n",
    "tasmin2007 = df2007.loc[0, tasmincol2007.columns]"
   ]
  },
  {
   "cell_type": "code",
   "execution_count": 1,
   "id": "9e499a5a",
   "metadata": {
    "scrolled": false
   },
   "outputs": [],
   "source": [
    "# rh2007"
   ]
  },
  {
   "cell_type": "code",
   "execution_count": 2,
   "id": "d775ea88",
   "metadata": {},
   "outputs": [],
   "source": [
    "# type(rh2007)"
   ]
  },
  {
   "cell_type": "code",
   "execution_count": 13,
   "id": "59a0d291",
   "metadata": {},
   "outputs": [],
   "source": [
    "import os"
   ]
  },
  {
   "cell_type": "code",
   "execution_count": 75,
   "id": "37e78e3f",
   "metadata": {
    "scrolled": true
   },
   "outputs": [
    {
     "data": {
      "text/plain": [
       "'D:\\\\Rachit\\\\Rachit_Final_Project\\\\Data\\\\NEX-GDDP_climate_data\\\\Wind_speed'"
      ]
     },
     "execution_count": 75,
     "metadata": {},
     "output_type": "execute_result"
    }
   ],
   "source": [
    "os.getcwd()"
   ]
  },
  {
   "cell_type": "code",
   "execution_count": 26,
   "id": "ba80e081",
   "metadata": {},
   "outputs": [],
   "source": [
    "# This code will make new folders at the specified path from 1 to 50 i.e. one folder for one weather station \n",
    "\n",
    "# for j in range(0,50):\n",
    "#     new_folder = j+1\n",
    "#     os.chdir('D:\\\\Rachit\\\\Rachit_Final_Project\\\\Data\\\\NEX-GDDP_climate_data\\\\Wind_speed')\n",
    "#     # Check if the directory already exists\n",
    "#     if not os.path.exists(str(new_folder)):\n",
    "#         # Create the new directory\n",
    "#         os.mkdir(str(new_folder))\n",
    "#         print(f\"Directory '{new_folder}' created successfully.\")\n",
    "#     else:\n",
    "#         print(f\"Directory '{new_folder}' already exists.\")"
   ]
  },
  {
   "cell_type": "code",
   "execution_count": 29,
   "id": "70a0fe5d",
   "metadata": {},
   "outputs": [],
   "source": [
    "os.chdir('D:\\\\Rachit\\\\Rachit_Final_Project\\\\Data\\\\NEX-GDDP_climate_data')"
   ]
  },
  {
   "cell_type": "code",
   "execution_count": 30,
   "id": "fcb8faa6",
   "metadata": {
    "scrolled": true
   },
   "outputs": [],
   "source": [
    "for i in range(2007,2029):\n",
    "    for j in range(0,50):\n",
    "        df = pd.read_csv(f'weather_data{i}.csv')\n",
    "    \n",
    "        rhcol = df.filter(like='hurs')\n",
    "        prcol = df.filter(like='pr')\n",
    "        rsdscol = df.filter(like='rsds')\n",
    "        sfcWindcol = df.filter(like='sfcWind')\n",
    "        tasmaxcol  = df.filter(like='tasmax')\n",
    "        tasmincol = df.filter(like='tasmin')\n",
    "\n",
    "        rh = df.loc[j, rhcol.columns]\n",
    "        pr = df.loc[j, prcol.columns]\n",
    "        rsds = df.loc[j, rsdscol.columns]\n",
    "        sfcWind = df.loc[j, sfcWindcol.columns]\n",
    "        tasmax = df.loc[j, tasmaxcol.columns]\n",
    "        tasmin = df.loc[j, tasmincol.columns]\n",
    "\n",
    "        rh.to_csv(f'D:\\\\Rachit\\\\Rachit_Final_Project\\\\Data\\\\NEX-GDDP_climate_data\\\\Relative_Humidity\\\\{j+1}\\\\{i}rh.csv', index=False)\n",
    "        pr.to_csv(f'D:\\Rachit\\\\Rachit_Final_Project\\\\Data\\\\NEX-GDDP_climate_data\\\\Precipitation\\\\{j+1}\\\\{i}pr.csv', index=False)\n",
    "        rsds.to_csv(f'D:\\\\Rachit\\\\Rachit_Final_Project\\\\Data\\\\NEX-GDDP_climate_data\\\\Solar_Radiation\\\\{j+1}\\\\{i}rsds.csv', index=False)\n",
    "        sfcWind.to_csv(f'D:\\\\Rachit\\\\Rachit_Final_Project\\\\Data\\\\NEX-GDDP_climate_data\\\\Wind_speed\\\\{j+1}\\\\{i}sfcWind.csv', index=False)\n",
    "        tasmax.to_csv(f'D:\\\\Rachit\\\\Rachit_Final_Project\\\\Data\\\\NEX-GDDP_climate_data\\\\Temperature\\\\max\\\\{j+1}\\\\{i}tasmax.csv', index=False)\n",
    "        tasmin.to_csv(f'D:\\\\Rachit\\\\Rachit_Final_Project\\\\Data\\\\NEX-GDDP_climate_data\\\\Temperature\\\\min\\\\{j+1}\\\\{i}tasmin.csv', index=False)\n",
    "    "
   ]
  },
  {
   "cell_type": "code",
   "execution_count": 3,
   "id": "4cdf7f92",
   "metadata": {
    "scrolled": true
   },
   "outputs": [],
   "source": [
    "# rh"
   ]
  },
  {
   "cell_type": "code",
   "execution_count": 20,
   "id": "fbc657cc",
   "metadata": {},
   "outputs": [
    {
     "data": {
      "text/plain": [
       "dtype('int64')"
      ]
     },
     "execution_count": 20,
     "metadata": {},
     "output_type": "execute_result"
    }
   ],
   "source": [
    "pr = df2007['historical_ACCESS-CM2_20070101_pr']\n",
    "pr.dtype"
   ]
  },
  {
   "cell_type": "code",
   "execution_count": 46,
   "id": "c8c81cfd",
   "metadata": {},
   "outputs": [],
   "source": [
    "import glob\n",
    "import numpy as np"
   ]
  },
  {
   "cell_type": "code",
   "execution_count": 163,
   "id": "5ad6a714",
   "metadata": {},
   "outputs": [],
   "source": [
    "for j in range(0,50):\n",
    "    csv_directory = f'D:\\\\Rachit\\\\Rachit_Final_Project\\\\Data\\\\NEX-GDDP_climate_data\\\\Precipitation\\\\{j+1}\\\\'\n",
    "    csv_files = glob.glob(csv_directory + '*.csv')\n",
    "    \n",
    "    dfs = []\n",
    "\n",
    "    for csv_file in csv_files:\n",
    "        df = pd.read_csv(csv_file)\n",
    "        dfs.extend(df.values.flatten())\n",
    "\n",
    "    merged_df = pd.DataFrame({'20070101': dfs})*86400\n",
    "\n",
    "    merged_df.to_csv(f'D:\\\\Rachit\\\\Rachit_Final_Project\\\\Data\\\\NEX-GDDP_climate_data\\\\weather_data\\\\Precipitation\\\\p{j+1}.csv', index=False)\n"
   ]
  },
  {
   "cell_type": "code",
   "execution_count": 161,
   "id": "ec75fa24",
   "metadata": {},
   "outputs": [],
   "source": [
    "#86400\n",
    "for j in range(0,50):\n",
    "    csv_directory = f'D:\\\\Rachit\\\\Rachit_Final_Project\\\\Data\\\\NEX-GDDP_climate_data\\\\Wind_speed\\\\{j+1}\\\\'\n",
    "    csv_files = glob.glob(csv_directory + '*.csv')\n",
    "    \n",
    "    dfs = []\n",
    "\n",
    "    for csv_file in csv_files:\n",
    "        df = pd.read_csv(csv_file)\n",
    "        dfs.extend(df.values.flatten())\n",
    "\n",
    "    merged_df = pd.DataFrame({'20070101': dfs})\n",
    "\n",
    "    merged_df.to_csv(f'D:\\\\Rachit\\\\Rachit_Final_Project\\\\Data\\\\NEX-GDDP_climate_data\\\\weather_data\\\\Wind_speed\\\\ws{j+1}.csv', index=False)\n"
   ]
  },
  {
   "cell_type": "code",
   "execution_count": 52,
   "id": "9350f069",
   "metadata": {},
   "outputs": [],
   "source": [
    "fle=pd.read_csv(r\"D:\\Rachit\\Rachit_Final_Project\\Data\\NEX-GDDP_climate_data\\Precipitation\\1\\p1.csv\")\n",
    "file=fle*86400\n",
    "file.describe()\n",
    "file.to_csv(r'D:\\Rachit\\Rachit_Final_Project\\Data\\NEX-GDDP_climate_data\\Precipitation\\1\\p1mm.csv')"
   ]
  },
  {
   "cell_type": "code",
   "execution_count": 91,
   "id": "81c57943",
   "metadata": {},
   "outputs": [
    {
     "data": {
      "text/html": [
       "<div>\n",
       "<style scoped>\n",
       "    .dataframe tbody tr th:only-of-type {\n",
       "        vertical-align: middle;\n",
       "    }\n",
       "\n",
       "    .dataframe tbody tr th {\n",
       "        vertical-align: top;\n",
       "    }\n",
       "\n",
       "    .dataframe thead th {\n",
       "        text-align: right;\n",
       "    }\n",
       "</style>\n",
       "<table border=\"1\" class=\"dataframe\">\n",
       "  <thead>\n",
       "    <tr style=\"text-align: right;\">\n",
       "      <th></th>\n",
       "      <th>Unnamed: 0</th>\n",
       "      <th>Merged Column</th>\n",
       "    </tr>\n",
       "  </thead>\n",
       "  <tbody>\n",
       "    <tr>\n",
       "      <th>0</th>\n",
       "      <td>0</td>\n",
       "      <td>0.0</td>\n",
       "    </tr>\n",
       "    <tr>\n",
       "      <th>1</th>\n",
       "      <td>1</td>\n",
       "      <td>0.0</td>\n",
       "    </tr>\n",
       "    <tr>\n",
       "      <th>2</th>\n",
       "      <td>2</td>\n",
       "      <td>0.0</td>\n",
       "    </tr>\n",
       "    <tr>\n",
       "      <th>3</th>\n",
       "      <td>3</td>\n",
       "      <td>0.0</td>\n",
       "    </tr>\n",
       "    <tr>\n",
       "      <th>4</th>\n",
       "      <td>4</td>\n",
       "      <td>0.0</td>\n",
       "    </tr>\n",
       "    <tr>\n",
       "      <th>...</th>\n",
       "      <td>...</td>\n",
       "      <td>...</td>\n",
       "    </tr>\n",
       "    <tr>\n",
       "      <th>8009</th>\n",
       "      <td>8009</td>\n",
       "      <td>0.0</td>\n",
       "    </tr>\n",
       "    <tr>\n",
       "      <th>8010</th>\n",
       "      <td>8010</td>\n",
       "      <td>0.0</td>\n",
       "    </tr>\n",
       "    <tr>\n",
       "      <th>8011</th>\n",
       "      <td>8011</td>\n",
       "      <td>0.0</td>\n",
       "    </tr>\n",
       "    <tr>\n",
       "      <th>8012</th>\n",
       "      <td>8012</td>\n",
       "      <td>0.0</td>\n",
       "    </tr>\n",
       "    <tr>\n",
       "      <th>8013</th>\n",
       "      <td>8013</td>\n",
       "      <td>0.0</td>\n",
       "    </tr>\n",
       "  </tbody>\n",
       "</table>\n",
       "<p>8014 rows × 2 columns</p>\n",
       "</div>"
      ],
      "text/plain": [
       "      Unnamed: 0  Merged Column\n",
       "0              0            0.0\n",
       "1              1            0.0\n",
       "2              2            0.0\n",
       "3              3            0.0\n",
       "4              4            0.0\n",
       "...          ...            ...\n",
       "8009        8009            0.0\n",
       "8010        8010            0.0\n",
       "8011        8011            0.0\n",
       "8012        8012            0.0\n",
       "8013        8013            0.0\n",
       "\n",
       "[8014 rows x 2 columns]"
      ]
     },
     "execution_count": 91,
     "metadata": {},
     "output_type": "execute_result"
    }
   ],
   "source": [
    "fle\n",
    "\n"
   ]
  },
  {
   "cell_type": "code",
   "execution_count": 15,
   "id": "0174c912",
   "metadata": {},
   "outputs": [],
   "source": [
    "# for i in range(2015,2029):\n",
    "#     for j in range(0,50):\n",
    "#         df = pd.read_csv(f'weather_data{i}.csv')\n",
    "    \n",
    "#         allcol = df.filter(like='ssp245')\n",
    "\n",
    "#         all = df.loc[j, allcol.columns]\n",
    "\n",
    "#         all.to_csv(f'D:\\\\Rachit\\\\Rachit_Final_Project\\\\Data\\\\NEX-GDDP_climate_data\\\\{j+1}\\\\{i}new.csv', index=False)"
   ]
  },
  {
   "cell_type": "code",
   "execution_count": 88,
   "id": "5dafa601",
   "metadata": {},
   "outputs": [
    {
     "data": {
      "text/plain": [
       "'D:\\\\Rachit\\\\Rachit_Final_Project\\\\Data\\\\NEX-GDDP_climate_data\\\\Precipitation\\\\10\\\\p10.csv'"
      ]
     },
     "execution_count": 88,
     "metadata": {},
     "output_type": "execute_result"
    }
   ],
   "source": [
    "list2=sorted(glob.glob(r\"D:\\Rachit\\Rachit_Final_Project\\Data\\NEX-GDDP_climate_data\\Precipitation\\\\*\")[:-23])\n",
    "list3=glob.glob(list2[1]+ '\\*.csv')\n",
    "list2\n",
    "list3[-1]"
   ]
  },
  {
   "cell_type": "code",
   "execution_count": 85,
   "id": "a22670a2",
   "metadata": {},
   "outputs": [
    {
     "data": {
      "text/plain": [
       "(50,)"
      ]
     },
     "execution_count": 85,
     "metadata": {},
     "output_type": "execute_result"
    }
   ],
   "source": [
    "import os\n",
    "list4=os.listdir(r\"D:\\Rachit\\Rachit_Final_Project\\Data\\NEX-GDDP_climate_data\\Precipitation\\\\\")[:-23]\n",
    "np.shape(list4)\n",
    "\n"
   ]
  },
  {
   "cell_type": "code",
   "execution_count": 76,
   "id": "6d76e723",
   "metadata": {},
   "outputs": [
    {
     "data": {
      "text/plain": [
       "array(['D:\\\\Rachit\\\\Rachit_Final_Project\\\\Data\\\\NEX-GDDP_climate_data\\\\Precipitation\\\\1',\n",
       "       'D:\\\\Rachit\\\\Rachit_Final_Project\\\\Data\\\\NEX-GDDP_climate_data\\\\Precipitation\\\\10',\n",
       "       'D:\\\\Rachit\\\\Rachit_Final_Project\\\\Data\\\\NEX-GDDP_climate_data\\\\Precipitation\\\\11',\n",
       "       'D:\\\\Rachit\\\\Rachit_Final_Project\\\\Data\\\\NEX-GDDP_climate_data\\\\Precipitation\\\\12',\n",
       "       'D:\\\\Rachit\\\\Rachit_Final_Project\\\\Data\\\\NEX-GDDP_climate_data\\\\Precipitation\\\\13',\n",
       "       'D:\\\\Rachit\\\\Rachit_Final_Project\\\\Data\\\\NEX-GDDP_climate_data\\\\Precipitation\\\\14',\n",
       "       'D:\\\\Rachit\\\\Rachit_Final_Project\\\\Data\\\\NEX-GDDP_climate_data\\\\Precipitation\\\\15',\n",
       "       'D:\\\\Rachit\\\\Rachit_Final_Project\\\\Data\\\\NEX-GDDP_climate_data\\\\Precipitation\\\\16',\n",
       "       'D:\\\\Rachit\\\\Rachit_Final_Project\\\\Data\\\\NEX-GDDP_climate_data\\\\Precipitation\\\\17',\n",
       "       'D:\\\\Rachit\\\\Rachit_Final_Project\\\\Data\\\\NEX-GDDP_climate_data\\\\Precipitation\\\\18',\n",
       "       'D:\\\\Rachit\\\\Rachit_Final_Project\\\\Data\\\\NEX-GDDP_climate_data\\\\Precipitation\\\\19',\n",
       "       'D:\\\\Rachit\\\\Rachit_Final_Project\\\\Data\\\\NEX-GDDP_climate_data\\\\Precipitation\\\\2',\n",
       "       'D:\\\\Rachit\\\\Rachit_Final_Project\\\\Data\\\\NEX-GDDP_climate_data\\\\Precipitation\\\\20',\n",
       "       'D:\\\\Rachit\\\\Rachit_Final_Project\\\\Data\\\\NEX-GDDP_climate_data\\\\Precipitation\\\\21',\n",
       "       'D:\\\\Rachit\\\\Rachit_Final_Project\\\\Data\\\\NEX-GDDP_climate_data\\\\Precipitation\\\\22',\n",
       "       'D:\\\\Rachit\\\\Rachit_Final_Project\\\\Data\\\\NEX-GDDP_climate_data\\\\Precipitation\\\\23',\n",
       "       'D:\\\\Rachit\\\\Rachit_Final_Project\\\\Data\\\\NEX-GDDP_climate_data\\\\Precipitation\\\\24',\n",
       "       'D:\\\\Rachit\\\\Rachit_Final_Project\\\\Data\\\\NEX-GDDP_climate_data\\\\Precipitation\\\\25',\n",
       "       'D:\\\\Rachit\\\\Rachit_Final_Project\\\\Data\\\\NEX-GDDP_climate_data\\\\Precipitation\\\\26',\n",
       "       'D:\\\\Rachit\\\\Rachit_Final_Project\\\\Data\\\\NEX-GDDP_climate_data\\\\Precipitation\\\\27',\n",
       "       'D:\\\\Rachit\\\\Rachit_Final_Project\\\\Data\\\\NEX-GDDP_climate_data\\\\Precipitation\\\\28',\n",
       "       'D:\\\\Rachit\\\\Rachit_Final_Project\\\\Data\\\\NEX-GDDP_climate_data\\\\Precipitation\\\\29',\n",
       "       'D:\\\\Rachit\\\\Rachit_Final_Project\\\\Data\\\\NEX-GDDP_climate_data\\\\Precipitation\\\\3',\n",
       "       'D:\\\\Rachit\\\\Rachit_Final_Project\\\\Data\\\\NEX-GDDP_climate_data\\\\Precipitation\\\\30',\n",
       "       'D:\\\\Rachit\\\\Rachit_Final_Project\\\\Data\\\\NEX-GDDP_climate_data\\\\Precipitation\\\\31',\n",
       "       'D:\\\\Rachit\\\\Rachit_Final_Project\\\\Data\\\\NEX-GDDP_climate_data\\\\Precipitation\\\\32',\n",
       "       'D:\\\\Rachit\\\\Rachit_Final_Project\\\\Data\\\\NEX-GDDP_climate_data\\\\Precipitation\\\\33',\n",
       "       'D:\\\\Rachit\\\\Rachit_Final_Project\\\\Data\\\\NEX-GDDP_climate_data\\\\Precipitation\\\\34',\n",
       "       'D:\\\\Rachit\\\\Rachit_Final_Project\\\\Data\\\\NEX-GDDP_climate_data\\\\Precipitation\\\\35',\n",
       "       'D:\\\\Rachit\\\\Rachit_Final_Project\\\\Data\\\\NEX-GDDP_climate_data\\\\Precipitation\\\\36',\n",
       "       'D:\\\\Rachit\\\\Rachit_Final_Project\\\\Data\\\\NEX-GDDP_climate_data\\\\Precipitation\\\\37',\n",
       "       'D:\\\\Rachit\\\\Rachit_Final_Project\\\\Data\\\\NEX-GDDP_climate_data\\\\Precipitation\\\\38',\n",
       "       'D:\\\\Rachit\\\\Rachit_Final_Project\\\\Data\\\\NEX-GDDP_climate_data\\\\Precipitation\\\\39',\n",
       "       'D:\\\\Rachit\\\\Rachit_Final_Project\\\\Data\\\\NEX-GDDP_climate_data\\\\Precipitation\\\\4',\n",
       "       'D:\\\\Rachit\\\\Rachit_Final_Project\\\\Data\\\\NEX-GDDP_climate_data\\\\Precipitation\\\\40',\n",
       "       'D:\\\\Rachit\\\\Rachit_Final_Project\\\\Data\\\\NEX-GDDP_climate_data\\\\Precipitation\\\\41',\n",
       "       'D:\\\\Rachit\\\\Rachit_Final_Project\\\\Data\\\\NEX-GDDP_climate_data\\\\Precipitation\\\\42',\n",
       "       'D:\\\\Rachit\\\\Rachit_Final_Project\\\\Data\\\\NEX-GDDP_climate_data\\\\Precipitation\\\\43',\n",
       "       'D:\\\\Rachit\\\\Rachit_Final_Project\\\\Data\\\\NEX-GDDP_climate_data\\\\Precipitation\\\\44',\n",
       "       'D:\\\\Rachit\\\\Rachit_Final_Project\\\\Data\\\\NEX-GDDP_climate_data\\\\Precipitation\\\\45',\n",
       "       'D:\\\\Rachit\\\\Rachit_Final_Project\\\\Data\\\\NEX-GDDP_climate_data\\\\Precipitation\\\\46',\n",
       "       'D:\\\\Rachit\\\\Rachit_Final_Project\\\\Data\\\\NEX-GDDP_climate_data\\\\Precipitation\\\\47',\n",
       "       'D:\\\\Rachit\\\\Rachit_Final_Project\\\\Data\\\\NEX-GDDP_climate_data\\\\Precipitation\\\\48',\n",
       "       'D:\\\\Rachit\\\\Rachit_Final_Project\\\\Data\\\\NEX-GDDP_climate_data\\\\Precipitation\\\\49',\n",
       "       'D:\\\\Rachit\\\\Rachit_Final_Project\\\\Data\\\\NEX-GDDP_climate_data\\\\Precipitation\\\\5',\n",
       "       'D:\\\\Rachit\\\\Rachit_Final_Project\\\\Data\\\\NEX-GDDP_climate_data\\\\Precipitation\\\\50',\n",
       "       'D:\\\\Rachit\\\\Rachit_Final_Project\\\\Data\\\\NEX-GDDP_climate_data\\\\Precipitation\\\\6',\n",
       "       'D:\\\\Rachit\\\\Rachit_Final_Project\\\\Data\\\\NEX-GDDP_climate_data\\\\Precipitation\\\\7',\n",
       "       'D:\\\\Rachit\\\\Rachit_Final_Project\\\\Data\\\\NEX-GDDP_climate_data\\\\Precipitation\\\\8',\n",
       "       'D:\\\\Rachit\\\\Rachit_Final_Project\\\\Data\\\\NEX-GDDP_climate_data\\\\Precipitation\\\\9',\n",
       "       'D:\\\\Rachit\\\\Rachit_Final_Project\\\\Data\\\\NEX-GDDP_climate_data\\\\Precipitation\\\\combined',\n",
       "       'D:\\\\Rachit\\\\Rachit_Final_Project\\\\Data\\\\NEX-GDDP_climate_data\\\\Precipitation\\\\elevation.cpg',\n",
       "       'D:\\\\Rachit\\\\Rachit_Final_Project\\\\Data\\\\NEX-GDDP_climate_data\\\\Precipitation\\\\elevation.dbf',\n",
       "       'D:\\\\Rachit\\\\Rachit_Final_Project\\\\Data\\\\NEX-GDDP_climate_data\\\\Precipitation\\\\elevation.prj',\n",
       "       'D:\\\\Rachit\\\\Rachit_Final_Project\\\\Data\\\\NEX-GDDP_climate_data\\\\Precipitation\\\\elevation.sbn',\n",
       "       'D:\\\\Rachit\\\\Rachit_Final_Project\\\\Data\\\\NEX-GDDP_climate_data\\\\Precipitation\\\\elevation.sbx',\n",
       "       'D:\\\\Rachit\\\\Rachit_Final_Project\\\\Data\\\\NEX-GDDP_climate_data\\\\Precipitation\\\\elevation.shp',\n",
       "       'D:\\\\Rachit\\\\Rachit_Final_Project\\\\Data\\\\NEX-GDDP_climate_data\\\\Precipitation\\\\elevation.shp.GIDLABDHPPRO08.4436.17440.sr.lock',\n",
       "       'D:\\\\Rachit\\\\Rachit_Final_Project\\\\Data\\\\NEX-GDDP_climate_data\\\\Precipitation\\\\elevation.shp.xml',\n",
       "       'D:\\\\Rachit\\\\Rachit_Final_Project\\\\Data\\\\NEX-GDDP_climate_data\\\\Precipitation\\\\elevation.shx',\n",
       "       'D:\\\\Rachit\\\\Rachit_Final_Project\\\\Data\\\\NEX-GDDP_climate_data\\\\Precipitation\\\\pcp_st.cpg',\n",
       "       'D:\\\\Rachit\\\\Rachit_Final_Project\\\\Data\\\\NEX-GDDP_climate_data\\\\Precipitation\\\\pcp_st.dbf',\n",
       "       'D:\\\\Rachit\\\\Rachit_Final_Project\\\\Data\\\\NEX-GDDP_climate_data\\\\Precipitation\\\\pcp_st.prj',\n",
       "       'D:\\\\Rachit\\\\Rachit_Final_Project\\\\Data\\\\NEX-GDDP_climate_data\\\\Precipitation\\\\pcp_st.sbn',\n",
       "       'D:\\\\Rachit\\\\Rachit_Final_Project\\\\Data\\\\NEX-GDDP_climate_data\\\\Precipitation\\\\pcp_st.sbx',\n",
       "       'D:\\\\Rachit\\\\Rachit_Final_Project\\\\Data\\\\NEX-GDDP_climate_data\\\\Precipitation\\\\pcp_st.shp',\n",
       "       'D:\\\\Rachit\\\\Rachit_Final_Project\\\\Data\\\\NEX-GDDP_climate_data\\\\Precipitation\\\\pcp_st.shp.GIDLABDHPPRO08.4436.17440.sr.lock',\n",
       "       'D:\\\\Rachit\\\\Rachit_Final_Project\\\\Data\\\\NEX-GDDP_climate_data\\\\Precipitation\\\\pcp_st.shp.xml',\n",
       "       'D:\\\\Rachit\\\\Rachit_Final_Project\\\\Data\\\\NEX-GDDP_climate_data\\\\Precipitation\\\\pcp_st.shx',\n",
       "       'D:\\\\Rachit\\\\Rachit_Final_Project\\\\Data\\\\NEX-GDDP_climate_data\\\\Precipitation\\\\pcp_stations.csv',\n",
       "       'D:\\\\Rachit\\\\Rachit_Final_Project\\\\Data\\\\NEX-GDDP_climate_data\\\\Precipitation\\\\pcp_stations.txt',\n",
       "       'D:\\\\Rachit\\\\Rachit_Final_Project\\\\Data\\\\NEX-GDDP_climate_data\\\\Precipitation\\\\pcp_stations.xlsx',\n",
       "       'D:\\\\Rachit\\\\Rachit_Final_Project\\\\Data\\\\NEX-GDDP_climate_data\\\\Precipitation\\\\schema.ini'],\n",
       "      dtype='<U119')"
      ]
     },
     "execution_count": 76,
     "metadata": {},
     "output_type": "execute_result"
    }
   ],
   "source": []
  },
  {
   "cell_type": "code",
   "execution_count": 74,
   "id": "dd868ac3",
   "metadata": {},
   "outputs": [
    {
     "data": {
      "text/plain": [
       "'p10.'"
      ]
     },
     "execution_count": 74,
     "metadata": {},
     "output_type": "execute_result"
    }
   ],
   "source": [
    "list3[-1][-6:-3]\n"
   ]
  },
  {
   "cell_type": "code",
   "execution_count": 100,
   "id": "e4888c8d",
   "metadata": {},
   "outputs": [],
   "source": [
    "# for i in range(0,len(list2)):\n",
    "#     fle=pd.read_csv(list3[-1])\n",
    "#     list3=glob.glob(list2[i]+ '\\*.csv')\n",
    "#     fle=pd.read_csv(list3[-1])[\"Merged Column\"]\n",
    "#     file=fle*86400\n",
    "#     file.describe()\n",
    "#     file.to_csv(list2[i]+\"\\p{}mm.csv\".format(list4[i]))"
   ]
  },
  {
   "cell_type": "code",
   "execution_count": 109,
   "id": "7a163002",
   "metadata": {},
   "outputs": [
    {
     "data": {
      "text/plain": [
       "['1',\n",
       " '10',\n",
       " '11',\n",
       " '12',\n",
       " '13',\n",
       " '14',\n",
       " '15',\n",
       " '16',\n",
       " '17',\n",
       " '18',\n",
       " '19',\n",
       " '2',\n",
       " '20',\n",
       " '21',\n",
       " '22',\n",
       " '23',\n",
       " '24',\n",
       " '25',\n",
       " '26',\n",
       " '27',\n",
       " '28',\n",
       " '29',\n",
       " '3',\n",
       " '30',\n",
       " '31',\n",
       " '32',\n",
       " '33',\n",
       " '34',\n",
       " '35',\n",
       " '36',\n",
       " '37',\n",
       " '38',\n",
       " '39',\n",
       " '4',\n",
       " '40',\n",
       " '41',\n",
       " '42',\n",
       " '43',\n",
       " '44',\n",
       " '45',\n",
       " '46',\n",
       " '47',\n",
       " '48',\n",
       " '49',\n",
       " '5',\n",
       " '50',\n",
       " '6',\n",
       " '7',\n",
       " '8',\n",
       " '9']"
      ]
     },
     "execution_count": 109,
     "metadata": {},
     "output_type": "execute_result"
    }
   ],
   "source": [
    "path1=r\"D:\\Rachit\\Rachit_Final_Project\\Data\\NEX-GDDP_climate_data\\Temperature\\max\"\n",
    "pth2=r\"D:\\Rachit\\Rachit_Final_Project\\Data\\NEX-GDDP_climate_data\\Temperature\\min\"\n",
    "list_max=list4=os.listdir(path1)\n",
    "list_max"
   ]
  },
  {
   "cell_type": "code",
   "execution_count": 157,
   "id": "2049bc1a",
   "metadata": {},
   "outputs": [],
   "source": [
    "for j in range(0,50):\n",
    "    max_directory = f'D:\\\\Rachit\\\\Rachit_Final_Project\\\\Data\\\\NEX-GDDP_climate_data\\\\Temperature\\\\max\\\\{j+1}\\\\'\n",
    "    min_directory=f'D:\\\\Rachit\\\\Rachit_Final_Project\\\\Data\\\\NEX-GDDP_climate_data\\\\Temperature\\\\min\\\\{j+1}\\\\'\n",
    "    max_files = glob.glob(max_directory + f'tmax{j+1}.csv')\n",
    "    min_files = glob.glob(min_directory + f'tmin{j+1}.csv')\n",
    "    df1 = pd.read_csv(min_files[0])\n",
    "    df2=pd.read_csv(max_files[0])\n",
    "    df3=pd.DataFrame({'20070101': df2[\"Merged Column\"],' ': df1[\"Merged Column\"]}) - 273.15\n",
    "    df3.to_csv(f'D:\\\\Rachit\\\\Rachit_Final_Project\\\\Data\\\\NEX-GDDP_climate_data\\\\Temperature\\\\tmax_tmin\\\\t{j+1}.csv', index=False)\n"
   ]
  },
  {
   "cell_type": "code",
   "execution_count": 136,
   "id": "ac8147e3",
   "metadata": {},
   "outputs": [
    {
     "data": {
      "text/html": [
       "<div>\n",
       "<style scoped>\n",
       "    .dataframe tbody tr th:only-of-type {\n",
       "        vertical-align: middle;\n",
       "    }\n",
       "\n",
       "    .dataframe tbody tr th {\n",
       "        vertical-align: top;\n",
       "    }\n",
       "\n",
       "    .dataframe thead th {\n",
       "        text-align: right;\n",
       "    }\n",
       "</style>\n",
       "<table border=\"1\" class=\"dataframe\">\n",
       "  <thead>\n",
       "    <tr style=\"text-align: right;\">\n",
       "      <th></th>\n",
       "      <th>20070101</th>\n",
       "      <th></th>\n",
       "    </tr>\n",
       "  </thead>\n",
       "  <tbody>\n",
       "    <tr>\n",
       "      <th>0</th>\n",
       "      <td>295.538727</td>\n",
       "      <td>278.552490</td>\n",
       "    </tr>\n",
       "    <tr>\n",
       "      <th>1</th>\n",
       "      <td>296.241699</td>\n",
       "      <td>278.585938</td>\n",
       "    </tr>\n",
       "    <tr>\n",
       "      <th>2</th>\n",
       "      <td>296.189514</td>\n",
       "      <td>279.010529</td>\n",
       "    </tr>\n",
       "    <tr>\n",
       "      <th>3</th>\n",
       "      <td>297.453247</td>\n",
       "      <td>279.142517</td>\n",
       "    </tr>\n",
       "    <tr>\n",
       "      <th>4</th>\n",
       "      <td>294.227264</td>\n",
       "      <td>280.086700</td>\n",
       "    </tr>\n",
       "    <tr>\n",
       "      <th>...</th>\n",
       "      <td>...</td>\n",
       "      <td>...</td>\n",
       "    </tr>\n",
       "    <tr>\n",
       "      <th>8009</th>\n",
       "      <td>296.907257</td>\n",
       "      <td>283.385498</td>\n",
       "    </tr>\n",
       "    <tr>\n",
       "      <th>8010</th>\n",
       "      <td>296.611420</td>\n",
       "      <td>282.233002</td>\n",
       "    </tr>\n",
       "    <tr>\n",
       "      <th>8011</th>\n",
       "      <td>296.669739</td>\n",
       "      <td>280.413147</td>\n",
       "    </tr>\n",
       "    <tr>\n",
       "      <th>8012</th>\n",
       "      <td>295.599457</td>\n",
       "      <td>279.428436</td>\n",
       "    </tr>\n",
       "    <tr>\n",
       "      <th>8013</th>\n",
       "      <td>295.329956</td>\n",
       "      <td>278.780243</td>\n",
       "    </tr>\n",
       "  </tbody>\n",
       "</table>\n",
       "<p>8014 rows × 2 columns</p>\n",
       "</div>"
      ],
      "text/plain": [
       "        20070101            \n",
       "0     295.538727  278.552490\n",
       "1     296.241699  278.585938\n",
       "2     296.189514  279.010529\n",
       "3     297.453247  279.142517\n",
       "4     294.227264  280.086700\n",
       "...          ...         ...\n",
       "8009  296.907257  283.385498\n",
       "8010  296.611420  282.233002\n",
       "8011  296.669739  280.413147\n",
       "8012  295.599457  279.428436\n",
       "8013  295.329956  278.780243\n",
       "\n",
       "[8014 rows x 2 columns]"
      ]
     },
     "execution_count": 136,
     "metadata": {},
     "output_type": "execute_result"
    }
   ],
   "source": [
    "j=1\n",
    "max_directory = f'D:\\\\Rachit\\\\Rachit_Final_Project\\\\Data\\\\NEX-GDDP_climate_data\\\\Temperature\\\\max\\\\{j+1}\\\\'\n",
    "min_directory=f'D:\\\\Rachit\\\\Rachit_Final_Project\\\\Data\\\\NEX-GDDP_climate_data\\\\Temperature\\\\min\\\\{j+1}\\\\'\n",
    "max_files = glob.glob(max_directory + f'tmax{j+1}.csv')\n",
    "min_files = glob.glob(min_directory + f'tmin{j+1}.csv')\n",
    "df1 = pd.read_csv(min_files[0])\n",
    "df2=pd.read_csv(max_files[0])\n",
    "df3=pd.DataFrame({'20070101': df2[\"Merged Column\"],'': df1[\"Merged Column\"]})\n",
    "df3"
   ]
  },
  {
   "cell_type": "code",
   "execution_count": 164,
   "id": "79267ab5",
   "metadata": {},
   "outputs": [],
   "source": [
    "# csv to txt\n",
    "import csv\n",
    "for j in range(0,50):\n",
    "    csv_file_path = f'D:\\\\Rachit\\\\Rachit_Final_Project\\\\Data\\\\NEX-GDDP_climate_data\\\\weather_data\\\\Precipitation\\\\p{j+1}.csv'\n",
    "    txt_file_path = f'D:\\\\Rachit\\\\Rachit_Final_Project\\\\Data\\\\NEX-GDDP_climate_data\\\\weather_data\\\\Precipitation\\\\p{j+1}.txt'\n",
    "\n",
    "    # Read CSV and write to TXT\n",
    "    with open(csv_file_path, 'r') as csv_file, open(txt_file_path, 'w') as txt_file:\n",
    "        csv_reader = csv.reader(csv_file)\n",
    "        for row in csv_reader:\n",
    "            txt_file.write(', '.join(row) + '\\n')\n"
   ]
  }
 ],
 "metadata": {
  "kernelspec": {
   "display_name": "Python 3 (ipykernel)",
   "language": "python",
   "name": "python3"
  },
  "language_info": {
   "codemirror_mode": {
    "name": "ipython",
    "version": 3
   },
   "file_extension": ".py",
   "mimetype": "text/x-python",
   "name": "python",
   "nbconvert_exporter": "python",
   "pygments_lexer": "ipython3",
   "version": "3.11.4"
  }
 },
 "nbformat": 4,
 "nbformat_minor": 5
}
