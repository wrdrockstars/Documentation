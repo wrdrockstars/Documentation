{
 "cells": [
  {
   "cell_type": "markdown",
   "metadata": {},
   "source": [
    "## Exporting Data from GEE directly to Local Drive\n",
    "## Use the following commands in miniconda prompt if geemap is not installed\n",
    "##### conda create -n gee python\n",
    "##### conda activate gee\n",
    "##### conda install -c conda-forge geemap\n",
    "##### conda install -c conda-forge spyder-kernels=2.4  -- in case spyder kernels are not installed"
   ]
  },
  {
   "cell_type": "code",
   "execution_count": null,
   "metadata": {},
   "outputs": [],
   "source": [
    "import ee"
   ]
  },
  {
   "cell_type": "code",
   "execution_count": 1,
   "metadata": {},
   "outputs": [
    {
     "data": {
      "text/html": [
       "<p>To authorize access needed by Earth Engine, open the following\n",
       "        URL in a web browser and follow the instructions:</p>\n",
       "        <p><a href=https://code.earthengine.google.com/client-auth?scopes=https%3A//www.googleapis.com/auth/earthengine%20https%3A//www.googleapis.com/auth/cloud-platform%20https%3A//www.googleapis.com/auth/devstorage.full_control&request_id=BZrQZDGJI64IAQwYXDcHFMXGBbG16beJoRCt5ByalmI&tc=pqFVkaj_bnd2vNM-NLy245iBOX_AGfG3mLKBeGr4uFU&cc=Ta1cU8WMO8vEKyZ3iGfAaGw_2LZuoIzJWd2Wrzdh5BM>https://code.earthengine.google.com/client-auth?scopes=https%3A//www.googleapis.com/auth/earthengine%20https%3A//www.googleapis.com/auth/cloud-platform%20https%3A//www.googleapis.com/auth/devstorage.full_control&request_id=BZrQZDGJI64IAQwYXDcHFMXGBbG16beJoRCt5ByalmI&tc=pqFVkaj_bnd2vNM-NLy245iBOX_AGfG3mLKBeGr4uFU&cc=Ta1cU8WMO8vEKyZ3iGfAaGw_2LZuoIzJWd2Wrzdh5BM</a></p>\n",
       "        <p>The authorization workflow will generate a code, which you should paste in the box below.</p>\n",
       "        "
      ],
      "text/plain": [
       "<IPython.core.display.HTML object>"
      ]
     },
     "metadata": {},
     "output_type": "display_data"
    },
    {
     "name": "stdout",
     "output_type": "stream",
     "text": [
      "\n",
      "Successfully saved authorization token.\n"
     ]
    }
   ],
   "source": [
    "ee.Authenticate() # If credentials already exist, they are automatically reused\n",
    "# ee.Authenticate(force=True) # to create new credentials\n",
    "ee.Initialize()"
   ]
  },
  {
   "cell_type": "code",
   "execution_count": 2,
   "metadata": {},
   "outputs": [],
   "source": [
    "import geemap\n",
    "Map = geemap.Map()"
   ]
  },
  {
   "cell_type": "code",
   "execution_count": null,
   "metadata": {},
   "outputs": [],
   "source": [
    "Map"
   ]
  },
  {
   "cell_type": "markdown",
   "metadata": {},
   "source": [
    "## Raw Javascript"
   ]
  },
  {
   "cell_type": "code",
   "execution_count": null,
   "metadata": {},
   "outputs": [],
   "source": [
    "# // Define the region of interest (ROI) as a feature collection (e.g., from a table)\n",
    "# //var roi = ee.FeatureCollection(table);\n",
    "# //Map.addLayer(roi);\n",
    "# // Define the latitude and longitude bounds for your area of interest\n",
    "# var lat_min = 21.375;\n",
    "# var lat_max = 32.125;\n",
    "# var lon_min = 72.125;\n",
    "# var lon_max = 89.875;\n",
    "\n",
    "# // Create a rectangle geometry for the area of interest\n",
    "# Map.addLayer(roi);\n",
    "# // Print the area of interest\n",
    "# print(\"Area of Interest:\", roi);\n",
    "\n",
    "# // Define the ImageCollection with the specified ID and filter it based on time and region.\n",
    "# var collection = ee.ImageCollection(\"ECMWF/ERA5/DAILY\")\n",
    "#   .select(['maximum_2m_air_temperature',\n",
    "#   // 'mean_2m_air_temperature',\n",
    "#   'minimum_2m_air_temperature'\n",
    "#   // 'total_precipitation',\n",
    "#   // 'u_component_of_wind_10m',\n",
    "#   // 'v_component_of_wind_10m'\n",
    "#   ])\n",
    "#   .filterBounds(roi)\n",
    "#   .filterDate('1990-01-01', '1998-01-01')\n",
    "#   ;\n",
    "\n",
    "# // Create a function to extract values for all pixels in the ROI for each image\n",
    "# var extractValues = function (image) {\n",
    "#   var date = image.date().format('yyyy-MM-dd');\n",
    "\n",
    "#   // Extract values for all pixels in the ROI\n",
    "#   var values = image.sample({\n",
    "#   region: roi,\n",
    "#   scale: 27830,\n",
    "#   geometries: true\n",
    "# });\n",
    "#   // Map over the values to create features\n",
    "#   var features = values.map(function (feature) {\n",
    "#     var properties = feature.toDictionary();\n",
    "\n",
    "# // Get the geometry of the feature (pixel)\n",
    "#     var geometry = feature.geometry();\n",
    "\n",
    "#     // Get the latitude and longitude of the pixel center\n",
    "#     var latLon = ee.List(geometry.coordinates().reverse());\n",
    "#     var latitude = latLon.get(0);\n",
    "#     var longitude = latLon.get(1);\n",
    " \n",
    "   \n",
    "#     // Set additional properties including latitude and longitude\n",
    "#     properties = properties.combine(ee.Dictionary({\n",
    "#       'date': date,\n",
    "#       'latitude': latitude,\n",
    "#       'longitude': longitude,\n",
    "#       'maximum_2m_air_temperature': feature.getNumber('maximum_2m_air_temperature'),\n",
    "#       // 'mean_2m_air_temperature': feature.getNumber('mean_2m_air_temperature'),\n",
    "#       'minimum_2m_air_temperature': feature.getNumber('minimum_2m_air_temperature')\n",
    "#       // 'total_precipitation': feature.getNumber('total_precipitation'),\n",
    "#       // 'u_component_of_wind_10m': feature.getNumber('u_component_of_wind_10m'),\n",
    "#       // 'v_component_of_wind_10m': feature.getNumber('v_component_of_wind_10m')\n",
    "#     }));\n",
    "\n",
    "#     return ee.Feature(null, properties);\n",
    "#   });\n",
    "\n",
    "#   return features;\n",
    "# };\n",
    "\n",
    "# // Map the extractValues function over the ImageCollection\n",
    "# var extractedData = collection.map(extractValues).flatten();\n",
    "\n",
    "# // Filter out features with null values\n",
    "# extractedData = extractedData.filter(ee.Filter.notNull([\n",
    "#   'latitude',\n",
    "#   'longitude',\n",
    "#   'maximum_2m_air_temperature',\n",
    "#   // 'mean_2m_air_temperature',\n",
    "#   'minimum_2m_air_temperature'\n",
    "#   // 'total_precipitation',\n",
    "#   // 'u_component_of_wind_10m',\n",
    "#   // 'v_component_of_wind_10m'\n",
    "# ]));\n",
    "\n",
    "# // Print the first feature in the extractedData collection to inspect its properties\n",
    "# print('Extracted Data:', extractedData.first());\n",
    "\n",
    "# // Export the data to a CSV file.\n",
    "# Export.table.toDrive({\n",
    "#   collection: extractedData,\n",
    "#   description: 'era5_data_1990_1997',\n",
    "#   folder: 'GEE_exports', // Optional: specify a folder on Google Drive\n",
    "#   fileNamePrefix: 'era5_data_1990_1997',\n",
    "#   fileFormat: 'CSV'\n",
    "# });"
   ]
  },
  {
   "cell_type": "markdown",
   "metadata": {},
   "source": [
    "## Python API Script"
   ]
  },
  {
   "cell_type": "code",
   "execution_count": null,
   "metadata": {},
   "outputs": [],
   "source": [
    "# Define the region of interest (ROI) as a feature collection (e.g., from a table)\n",
    "roi = ee.FeatureCollection(\"projects/ee-rachitknl/assets/Rectangle\")\n",
    "# Define the latitude and longitude bounds for your area of interest\n",
    "var lat_min = 21.375\n",
    "var lat_max = 32.125\n",
    "var lon_min = 72.125\n",
    "var lon_max = 89.875\n",
    "\n",
    "# Create a rectangle geometry for the area of interest\n",
    "Map.addLayer(roi)\n",
    "# Print the area of interest\n",
    "print(\"Area of Interest:\", roi)\n",
    "\n",
    "# Define the ImageCollection with the specified ID and filter it based on time and region.\n",
    "collection = ee.ImageCollection(\"ECMWF/ERA5/DAILY\")\n",
    "  .select(['maximum_2m_air_temperature',\n",
    "  # 'mean_2m_air_temperature',\n",
    "  'minimum_2m_air_temperature'\n",
    "  # 'total_precipitation',\n",
    "  # 'u_component_of_wind_10m',\n",
    "  # 'v_component_of_wind_10m'\n",
    "  ])\n",
    "  .filterBounds(roi)\n",
    "  .filterDate('1990-01-01', '1998-01-01')\n",
    "\n",
    "# Create a function to extract values for all pixels in the ROI for each image\n",
    "extractValues = function (image) {\n",
    "date = image.date().format('yyyy-MM-dd')\n",
    "\n",
    "# Extract values for all pixels in the ROI\n",
    "values = image.sample({\n",
    "region: roi,\n",
    "scale: 27830,\n",
    "geometries: true\n",
    "})\n",
    "# Map over the values to create features\n",
    "features = values.map(function (feature) {\n",
    "properties = feature.toDictionary()\n",
    "\n",
    "# Get the geometry of the feature (pixel)\n",
    "geometry = feature.geometry()\n",
    "\n",
    "    # Get the latitude and longitude of the pixel center\n",
    "    latLon = ee.List(geometry.coordinates().reverse())\n",
    "    latitude = latLon.get(0)\n",
    "    longitude = latLon.get(1)\n",
    " \n",
    "   \n",
    "    # Set additional properties including latitude and longitude\n",
    "    properties = properties.combine(ee.Dictionary({\n",
    "      'date': date,\n",
    "      'latitude': latitude,\n",
    "      'longitude': longitude,\n",
    "      'maximum_2m_air_temperature': feature.getNumber('maximum_2m_air_temperature'),\n",
    "      # // 'mean_2m_air_temperature': feature.getNumber('mean_2m_air_temperature'),\n",
    "      'minimum_2m_air_temperature': feature.getNumber('minimum_2m_air_temperature')\n",
    "      # // 'total_precipitation': feature.getNumber('total_precipitation'),\n",
    "      # // 'u_component_of_wind_10m': feature.getNumber('u_component_of_wind_10m'),\n",
    "      # // 'v_component_of_wind_10m': feature.getNumber('v_component_of_wind_10m')\n",
    "    }));\n",
    "\n",
    "    return ee.Feature(null, properties)\n",
    "  })\n",
    "\n",
    "  return features\n",
    "}\n",
    "\n",
    "# // Map the extractValues function over the ImageCollection\n",
    "extractedData = collection.map(extractValues).flatten();\n",
    "\n",
    "# // Filter out features with null values\n",
    "extractedData = extractedData.filter(ee.Filter.notNull([\n",
    "  'latitude',\n",
    "  'longitude',\n",
    "  'maximum_2m_air_temperature',\n",
    "  # // 'mean_2m_air_temperature',\n",
    "  'minimum_2m_air_temperature'\n",
    "  # // 'total_precipitation',\n",
    "  # // 'u_component_of_wind_10m',\n",
    "  # // 'v_component_of_wind_10m'\n",
    "]))\n",
    "\n",
    "# // Print the first feature in the extractedData collection to inspect its properties\n",
    "print('Extracted Data:', extractedData.first())\n",
    "\n",
    "# // Export the data to a CSV file.\n",
    "# Export.table.toDrive({\n",
    "#   collection: extractedData,\n",
    "#   description: 'era5_data_1990_1997',\n",
    "#   folder: 'GEE_exports', // Optional: specify a folder on Google Drive\n",
    "#   fileNamePrefix: 'era5_data_1990_1997',\n",
    "#   fileFormat: 'CSV'\n",
    "# });"
   ]
  },
  {
   "cell_type": "code",
   "execution_count": null,
   "metadata": {},
   "outputs": [],
   "source": [
    "import os\n",
    "os.chdir(r'E:\\\\Rachit\\\\IGBP_Project\\\\Data\\\\Weather_data\\\\ERA5\\\\Temp_2m')\n",
    "geemap.ee_to_csv(extractedData, filename='era5_data_1990_1997.csv')"
   ]
  },
  {
   "cell_type": "code",
   "execution_count": 17,
   "metadata": {},
   "outputs": [
    {
     "data": {
      "text/html": [
       "\n",
       "            <style>\n",
       "                .geemap-dark {\n",
       "                    --jp-widgets-color: white;\n",
       "                    --jp-widgets-label-color: white;\n",
       "                    --jp-ui-font-color1: white;\n",
       "                    --jp-layout-color2: #454545;\n",
       "                    background-color: #383838;\n",
       "                }\n",
       "\n",
       "                .geemap-dark .jupyter-button {\n",
       "                    --jp-layout-color3: #383838;\n",
       "                }\n",
       "\n",
       "                .geemap-colab {\n",
       "                    background-color: var(--colab-primary-surface-color, white);\n",
       "                }\n",
       "\n",
       "                .geemap-colab .jupyter-button {\n",
       "                    --jp-layout-color3: var(--colab-primary-surface-color, white);\n",
       "                }\n",
       "            </style>\n",
       "            "
      ],
      "text/plain": [
       "<IPython.core.display.HTML object>"
      ]
     },
     "metadata": {},
     "output_type": "display_data"
    }
   ],
   "source": [
    "#  import geopandas as gpd\n",
    "# Define regions of interest\n",
    "# roi = gpd.read_file(r\"\\\\172.16.20.21\\wrd_p_igbp\\IGBP_PROJECT_2023-24\\IGBP_Project_files\\Ganga_basin_shp\\Ganga_Rac_shp.shp\")\n",
    "roi = ee.FeatureCollection(\"projects/ee-rachitknl/assets/Rectangle\")\n",
    "stations = ee.FeatureCollection(\"users/rachitknl/Ganga_stations\")\n",
    "\n",
    "def func_ctz(image):\n",
    "  return image.clip(roi)\n",
    "                  \n",
    "selectedMonths = [1,2,3,4,5,6,7,8,9,10,11,12]\n",
    "\n",
    "# Filter and select data\n",
    "dataset = ee.ImageCollection('NASA/GDDP-CMIP6') \\\n",
    "                  .filter(ee.Filter.date('2021-01-01', '2026-01-01')) \\\n",
    "                  .filter(ee.Filter.eq('model', 'IITM-ESM')) \\\n",
    "                  .filter(ee.Filter.eq('scenario', 'ssp245')) \\\n",
    "                  .select('pr') \\\n",
    "                  .map(func_ctz)\n",
    "\n",
    "# Precipitation\n",
    "# pcp = dataset.select('pr')\n",
    "filteredDataset = dataset.filter(ee.Filter.inList('month', selectedMonths))\n",
    "# Visualization parameters\n",
    "# pcp_vis = {\n",
    "#   'min': 240,\n",
    "#   'max': 310,\n",
    "#   'palette': ['blue', 'purple', 'cyan', 'green', 'yellow', 'red'],\n",
    "# }\n",
    "\n",
    "# Create chart\n",
    "# chart = ui.Chart.image.series(dataset, roi)\n",
    "# print(chart)\n",
    "\n",
    "# Center map and add layers\n",
    "# Map.setCenter(77.06194261278883, 28.663690725304463, 7)\n",
    "# Map.addLayer(roi)\n",
    "# # Map.addLayer(stations)\n",
    "# Map.addLayer(filteredDataset, pcp_vis, 'Precipitation(kg/m^2/s)')\n",
    "\n",
    "# Stack bands and calculate means by region\n",
    "stacked = filteredDataset.toBands()\n",
    "means = stacked.reduceRegions(stations, ee.Reducer.mean().forEachBand(stacked))\n",
    "# print(stacked.getInfo())\n",
    "\n",
    "# Export data as CSV (commented out for illustration)\n",
    "# Export.table.toDrive(means, 'weather_data', 'NEX-GDDP_GEE', '_', 'CSV')\n",
    "\n",
    "# Looping through images for export (commented out for illustration)\n",
    "# count = dataset.size()\n",
    "# listOfImages = dataset.toList(count)\n",
    "\n",
    "# for i in range(count.getInfo()):\n",
    "#   image = ee.Image(listOfImages.get(i))\n",
    "#   date = ee.Date(image.get('system:time_start')).format('YYYY-MM-DD')\n",
    "#   filename = 'image_' + date\n",
    "  \n",
    "#   Export.image.toDrive({\n",
    "#     'image': image,\n",
    "#     'description': filename,\n",
    "#     'folder': 'Your_Folder_Name',\n",
    "#     # 'scale': 30,  # Adjust the scale according to the desired resolution\n",
    "#     'region': roi\n",
    "#   })\n"
   ]
  },
  {
   "cell_type": "code",
   "execution_count": null,
   "metadata": {},
   "outputs": [
    {
     "ename": "NameError",
     "evalue": "name 'Map' is not defined",
     "output_type": "error",
     "traceback": [
      "\u001b[1;31m---------------------------------------------------------------------------\u001b[0m",
      "\u001b[1;31mNameError\u001b[0m                                 Traceback (most recent call last)",
      "Cell \u001b[1;32mIn[1], line 1\u001b[0m\n\u001b[1;32m----> 1\u001b[0m \u001b[43mMap\u001b[49m\n",
      "\u001b[1;31mNameError\u001b[0m: name 'Map' is not defined"
     ]
    }
   ],
   "source": [
    "Map"
   ]
  },
  {
   "cell_type": "code",
   "execution_count": 18,
   "metadata": {},
   "outputs": [
    {
     "data": {
      "text/html": [
       "\n",
       "            <style>\n",
       "                .geemap-dark {\n",
       "                    --jp-widgets-color: white;\n",
       "                    --jp-widgets-label-color: white;\n",
       "                    --jp-ui-font-color1: white;\n",
       "                    --jp-layout-color2: #454545;\n",
       "                    background-color: #383838;\n",
       "                }\n",
       "\n",
       "                .geemap-dark .jupyter-button {\n",
       "                    --jp-layout-color3: #383838;\n",
       "                }\n",
       "\n",
       "                .geemap-colab {\n",
       "                    background-color: var(--colab-primary-surface-color, white);\n",
       "                }\n",
       "\n",
       "                .geemap-colab .jupyter-button {\n",
       "                    --jp-layout-color3: var(--colab-primary-surface-color, white);\n",
       "                }\n",
       "            </style>\n",
       "            "
      ],
      "text/plain": [
       "<IPython.core.display.HTML object>"
      ]
     },
     "metadata": {},
     "output_type": "display_data"
    }
   ],
   "source": [
    "import os\n",
    "os.chdir(r'\\\\172.16.20.21\\wrd_p_igbp\\IGBP_PROJECT_2023-24\\IGBP_Project_files\\Data\\Weather_data\\CMIP6')"
   ]
  },
  {
   "cell_type": "code",
   "execution_count": 19,
   "metadata": {},
   "outputs": [
    {
     "data": {
      "text/html": [
       "\n",
       "            <style>\n",
       "                .geemap-dark {\n",
       "                    --jp-widgets-color: white;\n",
       "                    --jp-widgets-label-color: white;\n",
       "                    --jp-ui-font-color1: white;\n",
       "                    --jp-layout-color2: #454545;\n",
       "                    background-color: #383838;\n",
       "                }\n",
       "\n",
       "                .geemap-dark .jupyter-button {\n",
       "                    --jp-layout-color3: #383838;\n",
       "                }\n",
       "\n",
       "                .geemap-colab {\n",
       "                    background-color: var(--colab-primary-surface-color, white);\n",
       "                }\n",
       "\n",
       "                .geemap-colab .jupyter-button {\n",
       "                    --jp-layout-color3: var(--colab-primary-surface-color, white);\n",
       "                }\n",
       "            </style>\n",
       "            "
      ],
      "text/plain": [
       "<IPython.core.display.HTML object>"
      ]
     },
     "metadata": {},
     "output_type": "display_data"
    }
   ],
   "source": [
    "geemap.ee_to_csv(means, filename='ganga2021_2025.csv')"
   ]
  },
  {
   "cell_type": "code",
   "execution_count": null,
   "metadata": {},
   "outputs": [],
   "source": []
  }
 ],
 "metadata": {
  "kernelspec": {
   "display_name": "gee",
   "language": "python",
   "name": "python3"
  },
  "language_info": {
   "codemirror_mode": {
    "name": "ipython",
    "version": 3
   },
   "file_extension": ".py",
   "mimetype": "text/x-python",
   "name": "python",
   "nbconvert_exporter": "python",
   "pygments_lexer": "ipython3",
   "version": "3.12.2"
  }
 },
 "nbformat": 4,
 "nbformat_minor": 2
}
