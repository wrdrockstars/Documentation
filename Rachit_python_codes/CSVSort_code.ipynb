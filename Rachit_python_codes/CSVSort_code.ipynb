{
 "cells": [
  {
   "cell_type": "markdown",
   "metadata": {},
   "source": [
    "# Sorting CSV file based on two columns"
   ]
  },
  {
   "cell_type": "code",
   "execution_count": 2,
   "metadata": {},
   "outputs": [
    {
     "name": "stdout",
     "output_type": "stream",
     "text": [
      "\n",
      "Before sorting:\n",
      "          system:index        date   latitude  longitude  \\\n",
      "0           19980101_0  1998-01-01  32.124735  72.126153   \n",
      "1           19980101_1  1998-01-01  32.124735  72.376154   \n",
      "2           19980101_2  1998-01-01  32.124735  72.626156   \n",
      "3           19980101_3  1998-01-01  32.124735  72.876157   \n",
      "4           19980101_4  1998-01-01  32.124735  73.126158   \n",
      "...                ...         ...        ...        ...   \n",
      "1156315  19981231_3163  1998-12-31  21.374686  88.876230   \n",
      "1156316  19981231_3164  1998-12-31  21.374686  89.126231   \n",
      "1156317  19981231_3165  1998-12-31  21.374686  89.376232   \n",
      "1156318  19981231_3166  1998-12-31  21.374686  89.626233   \n",
      "1156319  19981231_3167  1998-12-31  21.374686  89.876234   \n",
      "\n",
      "         maximum_2m_air_temperature  minimum_2m_air_temperature  \\\n",
      "0                         290.68698                   275.69586   \n",
      "1                         291.31876                   275.05618   \n",
      "2                         291.86390                   275.27990   \n",
      "3                         291.56613                   275.56982   \n",
      "4                         291.24472                   275.54932   \n",
      "...                             ...                         ...   \n",
      "1156315                   295.56980                   293.46347   \n",
      "1156316                   295.63116                   293.07465   \n",
      "1156317                   295.69403                   293.18866   \n",
      "1156318                   295.80804                   294.35364   \n",
      "1156319                   295.85336                   294.56558   \n",
      "\n",
      "         total_precipitation  u_component_of_wind_10m  \\\n",
      "0                        0.0                 0.763438   \n",
      "1                        0.0                 0.836144   \n",
      "2                        0.0                 1.055716   \n",
      "3                        0.0                 1.197082   \n",
      "4                        0.0                 1.357195   \n",
      "...                      ...                      ...   \n",
      "1156315                  0.0                 0.894305   \n",
      "1156316                  0.0                 0.931975   \n",
      "1156317                  0.0                 0.792665   \n",
      "1156318                  0.0                 0.572085   \n",
      "1156319                  0.0                 0.604738   \n",
      "\n",
      "         v_component_of_wind_10m                                    .geo  \n",
      "0                      -1.803052  {\"type\":\"MultiPoint\",\"coordinates\":[]}  \n",
      "1                      -0.954743  {\"type\":\"MultiPoint\",\"coordinates\":[]}  \n",
      "2                      -0.359267  {\"type\":\"MultiPoint\",\"coordinates\":[]}  \n",
      "3                       0.253852  {\"type\":\"MultiPoint\",\"coordinates\":[]}  \n",
      "4                       0.242315  {\"type\":\"MultiPoint\",\"coordinates\":[]}  \n",
      "...                          ...                                     ...  \n",
      "1156315                -2.508659  {\"type\":\"MultiPoint\",\"coordinates\":[]}  \n",
      "1156316                -2.337249  {\"type\":\"MultiPoint\",\"coordinates\":[]}  \n",
      "1156317                -2.376164  {\"type\":\"MultiPoint\",\"coordinates\":[]}  \n",
      "1156318                -2.737142  {\"type\":\"MultiPoint\",\"coordinates\":[]}  \n",
      "1156319                -2.997979  {\"type\":\"MultiPoint\",\"coordinates\":[]}  \n",
      "\n",
      "[1156320 rows x 10 columns]\n"
     ]
    },
    {
     "data": {
      "text/plain": [
       "pandas.core.frame.DataFrame"
      ]
     },
     "execution_count": 2,
     "metadata": {},
     "output_type": "execute_result"
    }
   ],
   "source": [
    "# importing pandas package \n",
    "import pandas as pd\n",
    "  \n",
    "# assign dataset \n",
    "csvData = pd.read_csv(r\"\\\\172.16.20.21\\wrd_p_igbp\\Rachit_igbp\\IGBP_Project_files\\Data\\Weather_data\\ERA5\\era5_1998.csv\") \n",
    "  \n",
    "# displaying unsorted data frame \n",
    "print(\"\\nBefore sorting:\") \n",
    "print(csvData)\n",
    "type(csvData)"
   ]
  },
  {
   "cell_type": "code",
   "execution_count": 7,
   "metadata": {},
   "outputs": [
    {
     "name": "stdout",
     "output_type": "stream",
     "text": [
      "\n",
      "After sorting:\n",
      "          system:index        date   latitude  longitude  \\\n",
      "3096     19980101_3096  1998-01-01  21.374686  72.126153   \n",
      "1368     19980101_1368  1998-01-01  27.374714  72.126153   \n",
      "1432     19980101_1432  1998-01-01  27.374714  88.126226   \n",
      "1369     19980101_1369  1998-01-01  27.374714  72.376154   \n",
      "800       19980101_800  1998-01-01  29.374723  74.126162   \n",
      "...                ...         ...        ...        ...   \n",
      "1154577  19981231_1425  1998-12-31  27.374714  86.376218   \n",
      "1154576  19981231_1424  1998-12-31  27.374714  86.126217   \n",
      "1154574  19981231_1422  1998-12-31  27.374714  85.626215   \n",
      "1154544  19981231_1392  1998-12-31  27.374714  78.126181   \n",
      "1153223    19981231_71  1998-12-31  32.124735  89.876234   \n",
      "\n",
      "         maximum_2m_air_temperature  minimum_2m_air_temperature  \\\n",
      "3096                      299.83292                   289.53842   \n",
      "1368                      291.70477                   277.44470   \n",
      "1432                      276.00308                   269.76556   \n",
      "1369                      291.77880                   277.26350   \n",
      "800                       290.34510                   276.65692   \n",
      "...                             ...                         ...   \n",
      "1154577                   283.80154                   274.69800   \n",
      "1154576                   288.31824                   276.58945   \n",
      "1154574                   289.74634                   276.95780   \n",
      "1154544                   293.30853                   281.27863   \n",
      "1153223                   266.81937                   249.98189   \n",
      "\n",
      "         total_precipitation  u_component_of_wind_10m  \\\n",
      "3096                0.000000                -1.779832   \n",
      "1368                0.000000                -2.862092   \n",
      "1432                0.000047                 0.421316   \n",
      "1369                0.000000                -2.711975   \n",
      "800                 0.000000                 1.431527   \n",
      "...                      ...                      ...   \n",
      "1154577             0.000221                 0.047040   \n",
      "1154576             0.000101                -0.014375   \n",
      "1154574             0.000000                 0.430342   \n",
      "1154544             0.000000                 1.113760   \n",
      "1153223             0.000265                 4.774506   \n",
      "\n",
      "         v_component_of_wind_10m                                    .geo  \n",
      "3096                   -4.111593  {\"type\":\"MultiPoint\",\"coordinates\":[]}  \n",
      "1368                   -1.048206  {\"type\":\"MultiPoint\",\"coordinates\":[]}  \n",
      "1432                   -0.161450  {\"type\":\"MultiPoint\",\"coordinates\":[]}  \n",
      "1369                   -1.070513  {\"type\":\"MultiPoint\",\"coordinates\":[]}  \n",
      "800                    -1.697440  {\"type\":\"MultiPoint\",\"coordinates\":[]}  \n",
      "...                          ...                                     ...  \n",
      "1154577                 0.273653  {\"type\":\"MultiPoint\",\"coordinates\":[]}  \n",
      "1154576                 0.191006  {\"type\":\"MultiPoint\",\"coordinates\":[]}  \n",
      "1154574                 0.049737  {\"type\":\"MultiPoint\",\"coordinates\":[]}  \n",
      "1154544                -1.464116  {\"type\":\"MultiPoint\",\"coordinates\":[]}  \n",
      "1153223                -0.429869  {\"type\":\"MultiPoint\",\"coordinates\":[]}  \n",
      "\n",
      "[1156320 rows x 10 columns]\n"
     ]
    }
   ],
   "source": [
    "# sort data frame \n",
    "csvData.sort_values(csvData.columns[2], \n",
    "                    axis=0, \n",
    "                    ascending=[True], \n",
    "                    inplace=True)\n",
    "csvData.sort_values(csvData.columns[1], \n",
    "                    axis=0, \n",
    "                    ascending=[True], \n",
    "                    inplace=True)\n",
    "# displaying sorted data frame \n",
    "print(\"\\nAfter sorting:\") \n",
    "# SORT = csvData.to_csv(r'E:\\Rachit\\IGBP_Project\\Data\\Weather_data\\ERA5\\GEE\\era5_1998.csv',index=False)\n",
    "print(csvData) "
   ]
  },
  {
   "cell_type": "code",
   "execution_count": null,
   "metadata": {},
   "outputs": [],
   "source": []
  }
 ],
 "metadata": {
  "kernelspec": {
   "display_name": "Python 3",
   "language": "python",
   "name": "python3"
  },
  "language_info": {
   "codemirror_mode": {
    "name": "ipython",
    "version": 3
   },
   "file_extension": ".py",
   "mimetype": "text/x-python",
   "name": "python",
   "nbconvert_exporter": "python",
   "pygments_lexer": "ipython3",
   "version": "3.11.4"
  }
 },
 "nbformat": 4,
 "nbformat_minor": 2
}
