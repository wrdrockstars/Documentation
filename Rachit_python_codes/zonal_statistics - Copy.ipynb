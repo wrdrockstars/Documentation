{
 "cells": [
  {
   "cell_type": "markdown",
   "metadata": {},
   "source": [
    "# Zonal Stats (spatial mean)"
   ]
  },
  {
   "cell_type": "markdown",
   "metadata": {},
   "source": [
    "## ET "
   ]
  },
  {
   "cell_type": "code",
   "execution_count": 20,
   "metadata": {},
   "outputs": [],
   "source": [
    "import glob\n",
    "import matplotlib.pyplot as plt\n",
    "import geopandas as geopandas\n",
    "from rasterstats import zonal_stats\n",
    "import pandas as pd\n",
    "import numpy as np"
   ]
  },
  {
   "cell_type": "code",
   "execution_count": 52,
   "metadata": {},
   "outputs": [],
   "source": [
    "import glob\n",
    "import geopandas as geopandas\n",
    "from rasterstats import zonal_stats\n",
    "path = 'E:\\\\Rachit\\\\FLDAS_forcodetest\\\\output\\\\pcp'\n",
    "files = sorted(glob.glob(path+'\\\\*.tif'))\n",
    "# files.sort(key=lambda x: int(x.split('\\\\')[-1].split('_')[0]))      # to sort properly according to numbers\n",
    "files\n",
    "means1 = []\n",
    "for i in files:\n",
    "    stats = zonal_stats(\"E:\\\\Rachit\\\\NWH\\\\shapefiles_watershed\\\\Jhelum.shp\", i, stats=\"mean\") # we can use: min max min count sum std median majority minority unique range nodata percentile\n",
    "    means1.append(stats)"
   ]
  },
  {
   "cell_type": "code",
   "execution_count": 41,
   "metadata": {},
   "outputs": [],
   "source": [
    "months = ['Jan', 'Feb', 'Mar', 'Apr', 'May', 'Jun', 'Jul', 'Aug', 'Sep', 'Oct', 'Nov', 'Dec']"
   ]
  },
  {
   "cell_type": "code",
   "execution_count": 53,
   "metadata": {},
   "outputs": [
    {
     "data": {
      "text/plain": [
       "[[{'mean': 0.00036702993403725764}],\n",
       " [{'mean': 0.0003403542524067672}],\n",
       " [{'mean': 0.000237381209647734}],\n",
       " [{'mean': 0.00025895997316044417}],\n",
       " [{'mean': 0.0009127149556570068}],\n",
       " [{'mean': 0.0010170852717258376}],\n",
       " [{'mean': 0.0012813984162714117}],\n",
       " [{'mean': 0.0012841567194406657}],\n",
       " [{'mean': 0.0012081020496266634}],\n",
       " [{'mean': 0.002125914358805647}],\n",
       " [{'mean': 0.002296954192674601}],\n",
       " [{'mean': 0.0011960212250744706}]]"
      ]
     },
     "execution_count": 53,
     "metadata": {},
     "output_type": "execute_result"
    }
   ],
   "source": [
    "means1"
   ]
  },
  {
   "cell_type": "code",
   "execution_count": 54,
   "metadata": {},
   "outputs": [],
   "source": [
    "means1\n",
    "list_of_values_Jhelum = [item[0]['mean'] for item in means1]\n",
    "df1 = pd.DataFrame(list_of_values_Jhelum)\n",
    "df1.insert(0, \"Months\", months, True)\n",
    "df1.to_csv(\"E:\\\\Rachit\\\\FLDAS_forcodetest\\\\output\\\\Pcpmonthly_mean.csv\")"
   ]
  },
  {
   "cell_type": "code",
   "execution_count": null,
   "metadata": {},
   "outputs": [],
   "source": []
  },
  {
   "cell_type": "markdown",
   "metadata": {},
   "source": [
    "## looping for multiple files"
   ]
  },
  {
   "cell_type": "code",
   "execution_count": 12,
   "metadata": {},
   "outputs": [
    {
     "name": "stdout",
     "output_type": "stream",
     "text": [
      "['E:\\\\Rachit\\\\FLDAS_forcodetest\\\\output\\\\ET\\\\ET_1.tif', 'E:\\\\Rachit\\\\FLDAS_forcodetest\\\\output\\\\ET\\\\ET_2.tif', 'E:\\\\Rachit\\\\FLDAS_forcodetest\\\\output\\\\ET\\\\ET_3.tif', 'E:\\\\Rachit\\\\FLDAS_forcodetest\\\\output\\\\ET\\\\ET_4.tif', 'E:\\\\Rachit\\\\FLDAS_forcodetest\\\\output\\\\ET\\\\ET_5.tif', 'E:\\\\Rachit\\\\FLDAS_forcodetest\\\\output\\\\ET\\\\ET_6.tif', 'E:\\\\Rachit\\\\FLDAS_forcodetest\\\\output\\\\ET\\\\ET_7.tif', 'E:\\\\Rachit\\\\FLDAS_forcodetest\\\\output\\\\ET\\\\ET_8.tif', 'E:\\\\Rachit\\\\FLDAS_forcodetest\\\\output\\\\ET\\\\ET_9.tif', 'E:\\\\Rachit\\\\FLDAS_forcodetest\\\\output\\\\ET\\\\ET_10.tif', 'E:\\\\Rachit\\\\FLDAS_forcodetest\\\\output\\\\ET\\\\ET_11.tif', 'E:\\\\Rachit\\\\FLDAS_forcodetest\\\\output\\\\ET\\\\ET_12.tif']\n",
      "['E:\\\\Rachit\\\\FLDAS_forcodetest\\\\output\\\\ET\\\\ET_1.tif', 'E:\\\\Rachit\\\\FLDAS_forcodetest\\\\output\\\\ET\\\\ET_2.tif', 'E:\\\\Rachit\\\\FLDAS_forcodetest\\\\output\\\\ET\\\\ET_3.tif', 'E:\\\\Rachit\\\\FLDAS_forcodetest\\\\output\\\\ET\\\\ET_4.tif', 'E:\\\\Rachit\\\\FLDAS_forcodetest\\\\output\\\\ET\\\\ET_5.tif', 'E:\\\\Rachit\\\\FLDAS_forcodetest\\\\output\\\\ET\\\\ET_6.tif', 'E:\\\\Rachit\\\\FLDAS_forcodetest\\\\output\\\\ET\\\\ET_7.tif', 'E:\\\\Rachit\\\\FLDAS_forcodetest\\\\output\\\\ET\\\\ET_8.tif', 'E:\\\\Rachit\\\\FLDAS_forcodetest\\\\output\\\\ET\\\\ET_9.tif', 'E:\\\\Rachit\\\\FLDAS_forcodetest\\\\output\\\\ET\\\\ET_10.tif', 'E:\\\\Rachit\\\\FLDAS_forcodetest\\\\output\\\\ET\\\\ET_11.tif', 'E:\\\\Rachit\\\\FLDAS_forcodetest\\\\output\\\\ET\\\\ET_12.tif']\n",
      "['E:\\\\Rachit\\\\FLDAS_forcodetest\\\\output\\\\ET\\\\ET_1.tif', 'E:\\\\Rachit\\\\FLDAS_forcodetest\\\\output\\\\ET\\\\ET_2.tif', 'E:\\\\Rachit\\\\FLDAS_forcodetest\\\\output\\\\ET\\\\ET_3.tif', 'E:\\\\Rachit\\\\FLDAS_forcodetest\\\\output\\\\ET\\\\ET_4.tif', 'E:\\\\Rachit\\\\FLDAS_forcodetest\\\\output\\\\ET\\\\ET_5.tif', 'E:\\\\Rachit\\\\FLDAS_forcodetest\\\\output\\\\ET\\\\ET_6.tif', 'E:\\\\Rachit\\\\FLDAS_forcodetest\\\\output\\\\ET\\\\ET_7.tif', 'E:\\\\Rachit\\\\FLDAS_forcodetest\\\\output\\\\ET\\\\ET_8.tif', 'E:\\\\Rachit\\\\FLDAS_forcodetest\\\\output\\\\ET\\\\ET_9.tif', 'E:\\\\Rachit\\\\FLDAS_forcodetest\\\\output\\\\ET\\\\ET_10.tif', 'E:\\\\Rachit\\\\FLDAS_forcodetest\\\\output\\\\ET\\\\ET_11.tif', 'E:\\\\Rachit\\\\FLDAS_forcodetest\\\\output\\\\ET\\\\ET_12.tif']\n",
      "['E:\\\\Rachit\\\\FLDAS_forcodetest\\\\output\\\\ET\\\\ET_1.tif', 'E:\\\\Rachit\\\\FLDAS_forcodetest\\\\output\\\\ET\\\\ET_2.tif', 'E:\\\\Rachit\\\\FLDAS_forcodetest\\\\output\\\\ET\\\\ET_3.tif', 'E:\\\\Rachit\\\\FLDAS_forcodetest\\\\output\\\\ET\\\\ET_4.tif', 'E:\\\\Rachit\\\\FLDAS_forcodetest\\\\output\\\\ET\\\\ET_5.tif', 'E:\\\\Rachit\\\\FLDAS_forcodetest\\\\output\\\\ET\\\\ET_6.tif', 'E:\\\\Rachit\\\\FLDAS_forcodetest\\\\output\\\\ET\\\\ET_7.tif', 'E:\\\\Rachit\\\\FLDAS_forcodetest\\\\output\\\\ET\\\\ET_8.tif', 'E:\\\\Rachit\\\\FLDAS_forcodetest\\\\output\\\\ET\\\\ET_9.tif', 'E:\\\\Rachit\\\\FLDAS_forcodetest\\\\output\\\\ET\\\\ET_10.tif', 'E:\\\\Rachit\\\\FLDAS_forcodetest\\\\output\\\\ET\\\\ET_11.tif', 'E:\\\\Rachit\\\\FLDAS_forcodetest\\\\output\\\\ET\\\\ET_12.tif']\n",
      "['E:\\\\Rachit\\\\FLDAS_forcodetest\\\\output\\\\ET\\\\ET_1.tif', 'E:\\\\Rachit\\\\FLDAS_forcodetest\\\\output\\\\ET\\\\ET_2.tif', 'E:\\\\Rachit\\\\FLDAS_forcodetest\\\\output\\\\ET\\\\ET_3.tif', 'E:\\\\Rachit\\\\FLDAS_forcodetest\\\\output\\\\ET\\\\ET_4.tif', 'E:\\\\Rachit\\\\FLDAS_forcodetest\\\\output\\\\ET\\\\ET_5.tif', 'E:\\\\Rachit\\\\FLDAS_forcodetest\\\\output\\\\ET\\\\ET_6.tif', 'E:\\\\Rachit\\\\FLDAS_forcodetest\\\\output\\\\ET\\\\ET_7.tif', 'E:\\\\Rachit\\\\FLDAS_forcodetest\\\\output\\\\ET\\\\ET_8.tif', 'E:\\\\Rachit\\\\FLDAS_forcodetest\\\\output\\\\ET\\\\ET_9.tif', 'E:\\\\Rachit\\\\FLDAS_forcodetest\\\\output\\\\ET\\\\ET_10.tif', 'E:\\\\Rachit\\\\FLDAS_forcodetest\\\\output\\\\ET\\\\ET_11.tif', 'E:\\\\Rachit\\\\FLDAS_forcodetest\\\\output\\\\ET\\\\ET_12.tif']\n",
      "['E:\\\\Rachit\\\\FLDAS_forcodetest\\\\output\\\\ET\\\\ET_1.tif', 'E:\\\\Rachit\\\\FLDAS_forcodetest\\\\output\\\\ET\\\\ET_2.tif', 'E:\\\\Rachit\\\\FLDAS_forcodetest\\\\output\\\\ET\\\\ET_3.tif', 'E:\\\\Rachit\\\\FLDAS_forcodetest\\\\output\\\\ET\\\\ET_4.tif', 'E:\\\\Rachit\\\\FLDAS_forcodetest\\\\output\\\\ET\\\\ET_5.tif', 'E:\\\\Rachit\\\\FLDAS_forcodetest\\\\output\\\\ET\\\\ET_6.tif', 'E:\\\\Rachit\\\\FLDAS_forcodetest\\\\output\\\\ET\\\\ET_7.tif', 'E:\\\\Rachit\\\\FLDAS_forcodetest\\\\output\\\\ET\\\\ET_8.tif', 'E:\\\\Rachit\\\\FLDAS_forcodetest\\\\output\\\\ET\\\\ET_9.tif', 'E:\\\\Rachit\\\\FLDAS_forcodetest\\\\output\\\\ET\\\\ET_10.tif', 'E:\\\\Rachit\\\\FLDAS_forcodetest\\\\output\\\\ET\\\\ET_11.tif', 'E:\\\\Rachit\\\\FLDAS_forcodetest\\\\output\\\\ET\\\\ET_12.tif']\n",
      "['E:\\\\Rachit\\\\FLDAS_forcodetest\\\\output\\\\ET\\\\ET_1.tif', 'E:\\\\Rachit\\\\FLDAS_forcodetest\\\\output\\\\ET\\\\ET_2.tif', 'E:\\\\Rachit\\\\FLDAS_forcodetest\\\\output\\\\ET\\\\ET_3.tif', 'E:\\\\Rachit\\\\FLDAS_forcodetest\\\\output\\\\ET\\\\ET_4.tif', 'E:\\\\Rachit\\\\FLDAS_forcodetest\\\\output\\\\ET\\\\ET_5.tif', 'E:\\\\Rachit\\\\FLDAS_forcodetest\\\\output\\\\ET\\\\ET_6.tif', 'E:\\\\Rachit\\\\FLDAS_forcodetest\\\\output\\\\ET\\\\ET_7.tif', 'E:\\\\Rachit\\\\FLDAS_forcodetest\\\\output\\\\ET\\\\ET_8.tif', 'E:\\\\Rachit\\\\FLDAS_forcodetest\\\\output\\\\ET\\\\ET_9.tif', 'E:\\\\Rachit\\\\FLDAS_forcodetest\\\\output\\\\ET\\\\ET_10.tif', 'E:\\\\Rachit\\\\FLDAS_forcodetest\\\\output\\\\ET\\\\ET_11.tif', 'E:\\\\Rachit\\\\FLDAS_forcodetest\\\\output\\\\ET\\\\ET_12.tif']\n",
      "['E:\\\\Rachit\\\\FLDAS_forcodetest\\\\output\\\\ET\\\\ET_1.tif', 'E:\\\\Rachit\\\\FLDAS_forcodetest\\\\output\\\\ET\\\\ET_2.tif', 'E:\\\\Rachit\\\\FLDAS_forcodetest\\\\output\\\\ET\\\\ET_3.tif', 'E:\\\\Rachit\\\\FLDAS_forcodetest\\\\output\\\\ET\\\\ET_4.tif', 'E:\\\\Rachit\\\\FLDAS_forcodetest\\\\output\\\\ET\\\\ET_5.tif', 'E:\\\\Rachit\\\\FLDAS_forcodetest\\\\output\\\\ET\\\\ET_6.tif', 'E:\\\\Rachit\\\\FLDAS_forcodetest\\\\output\\\\ET\\\\ET_7.tif', 'E:\\\\Rachit\\\\FLDAS_forcodetest\\\\output\\\\ET\\\\ET_8.tif', 'E:\\\\Rachit\\\\FLDAS_forcodetest\\\\output\\\\ET\\\\ET_9.tif', 'E:\\\\Rachit\\\\FLDAS_forcodetest\\\\output\\\\ET\\\\ET_10.tif', 'E:\\\\Rachit\\\\FLDAS_forcodetest\\\\output\\\\ET\\\\ET_11.tif', 'E:\\\\Rachit\\\\FLDAS_forcodetest\\\\output\\\\ET\\\\ET_12.tif']\n",
      "['E:\\\\Rachit\\\\FLDAS_forcodetest\\\\output\\\\ET\\\\ET_1.tif', 'E:\\\\Rachit\\\\FLDAS_forcodetest\\\\output\\\\ET\\\\ET_2.tif', 'E:\\\\Rachit\\\\FLDAS_forcodetest\\\\output\\\\ET\\\\ET_3.tif', 'E:\\\\Rachit\\\\FLDAS_forcodetest\\\\output\\\\ET\\\\ET_4.tif', 'E:\\\\Rachit\\\\FLDAS_forcodetest\\\\output\\\\ET\\\\ET_5.tif', 'E:\\\\Rachit\\\\FLDAS_forcodetest\\\\output\\\\ET\\\\ET_6.tif', 'E:\\\\Rachit\\\\FLDAS_forcodetest\\\\output\\\\ET\\\\ET_7.tif', 'E:\\\\Rachit\\\\FLDAS_forcodetest\\\\output\\\\ET\\\\ET_8.tif', 'E:\\\\Rachit\\\\FLDAS_forcodetest\\\\output\\\\ET\\\\ET_9.tif', 'E:\\\\Rachit\\\\FLDAS_forcodetest\\\\output\\\\ET\\\\ET_10.tif', 'E:\\\\Rachit\\\\FLDAS_forcodetest\\\\output\\\\ET\\\\ET_11.tif', 'E:\\\\Rachit\\\\FLDAS_forcodetest\\\\output\\\\ET\\\\ET_12.tif']\n"
     ]
    }
   ],
   "source": [
    "import glob\n",
    "import matplotlib.pyplot as plt\n",
    "import geopandas as geopandas\n",
    "from rasterstats import zonal_stats\n",
    "import pandas as pd\n",
    "import numpy as np\n",
    "\n",
    "names=['Asan','Aglar','Gangotri','Hanval','Jhelum','Parbati','Suketi','Tawi','Beas_Manali']\n",
    "for name in names:\n",
    "    \n",
    "    #infol=r\"D:\\Share\\NWH\\Chirps\\\\\"+name+\"_Chirps\"\n",
    "    path = r\"E:\\Rachit\\FLDAS_forcodetest\\output\\ET\"\n",
    "    files1 = glob.glob(path+'\\\\*.tif')\n",
    "   \n",
    "    files = sorted(files1, key=lambda x: int(''.join(filter(str.isdigit, x))))      # to sort properly according to numbers\n",
    "    print(files)\n",
    "    means1 = []\n",
    "    months = ['Jan', 'Feb', 'Mar', 'Apr', 'May', 'Jun', 'Jul', 'Aug', 'Sep', 'Oct', 'Nov', 'Dec']\n",
    "    for i in files:\n",
    "        stats = zonal_stats(r\"\\\\192.168.9.63\\Share\\NWH\\shapefiles_watershed\\\\\"+name+\".shp\", i, stats=\"mean\") # we can use: min max min count sum std median majority minority unique range nodata percentile\n",
    "        means1.append(stats)\n",
    "    \n",
    "        list_of_values_Aglar = [item[0]['mean'] for item in means1]\n",
    "    df1 = pd.DataFrame(list_of_values_Aglar)\n",
    "    df1.insert(0, \"Months\", months, True)\n",
    "    df1.to_csv(r\"E:\\\\Rachit\\\\FLDAS_forcodetest\\\\Graphs\\\\\"+name+\"_ET_means.csv\")\n",
    "    df1=None\n",
    "\n"
   ]
  },
  {
   "cell_type": "code",
   "execution_count": null,
   "metadata": {},
   "outputs": [],
   "source": []
  }
 ],
 "metadata": {
  "kernelspec": {
   "display_name": "Python 3",
   "language": "python",
   "name": "python3"
  },
  "language_info": {
   "codemirror_mode": {
    "name": "ipython",
    "version": 3
   },
   "file_extension": ".py",
   "mimetype": "text/x-python",
   "name": "python",
   "nbconvert_exporter": "python",
   "pygments_lexer": "ipython3",
   "version": "3.11.4"
  }
 },
 "nbformat": 4,
 "nbformat_minor": 2
}
