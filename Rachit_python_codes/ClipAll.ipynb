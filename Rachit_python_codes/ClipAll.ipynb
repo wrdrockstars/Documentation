{
 "cells": [
  {
   "cell_type": "code",
   "execution_count": null,
   "metadata": {},
   "outputs": [],
   "source": [
    "def ClipAll(infol,shpin,outfol):\n",
    "    \n",
    "    \"\"\"Parameters are infol = path to input folder, shpin = path to input shape file, outfol = path to folder for clipped rasters\n",
    "\n",
    "    Usage Example :-\n",
    "    \n",
    "    ClipAll(infol = r\"D:\\\\Landsat\\\\Study Area\", shpin = r\"D:\\\\Study Area\\\\Study.shp\", outfol = r\"D:\\\\Study Area\\\\Clipped Output\")\n",
    "    \n",
    "    use help(ClipAll) for clearer details\n",
    "    \n",
    "    \"\"\"\n",
    "    \n",
    "    from osgeo import gdal\n",
    "    import glob\n",
    "    import datetime\n",
    "    from tqdm import tqdm\n",
    "    \n",
    "    start_time = datetime.datetime.now()\n",
    "    infiles = glob.glob(infol + \"\\*.tif\") \n",
    "    \n",
    "    for i in tqdm(range(len(infiles))):\n",
    "        split = infiles[i].split(\"\\\\\")\n",
    "        outfilename = split[-1][:-4]\n",
    "        dsclip=gdal.Warp(destNameOrDestDS = outfol + '\\\\' + outfilename + '_clip' + '.tif',\n",
    "                         srcDSOrSrcDSTab = infiles[i],\n",
    "                         cutlineDSName=shpin,\n",
    "                         cropToCutline=True,\n",
    "                         dstNodata = 0)\n",
    "        dsclip = None\n",
    "        \n",
    "    end_time = datetime.datetime.now()\n",
    "    \n",
    "    time_taken = end_time - start_time\n",
    "    \n",
    "    output = str(len(infiles))+\" Files Successfully Clipped !!\" + \"\\nTime Taken was \" + str(time_taken)\n",
    "    \n",
    "    return(output)\n",
    "result = ClipAll(r'E:\\Rachit\\Snow',r'E:\\Rachit\\Snow\\Snow_boundary\\NWH_states_dissolve.shp',r'E:\\Rachit\\Snow')"
   ]
  },
  {
   "cell_type": "markdown",
   "metadata": {},
   "source": []
  }
 ],
 "metadata": {
  "language_info": {
   "name": "python"
  }
 },
 "nbformat": 4,
 "nbformat_minor": 2
}
